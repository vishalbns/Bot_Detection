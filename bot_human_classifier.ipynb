{
 "cells": [
  {
   "cell_type": "markdown",
   "id": "df6edd6d-a3d5-490b-90e5-3f6348e7f5c0",
   "metadata": {},
   "source": [
    "# <b>BOT-HUMAN CLASSIFIER</b>"
   ]
  },
  {
   "cell_type": "code",
   "execution_count": 1,
   "id": "8ff80af4-00ce-4aea-84b1-a8c1be2bd9b5",
   "metadata": {},
   "outputs": [],
   "source": [
    "import numpy as np\n",
    "import pandas as pd\n",
    "from sklearn.ensemble import RandomForestClassifier\n",
    "from sklearn.metrics import classification_report, roc_auc_score\n",
    "from sklearn.model_selection import train_test_split\n",
    "from scipy.stats import entropy\n",
    "import matplotlib.pyplot as plt\n",
    "import os\n",
    "import json\n",
    "from tabulate import tabulate\n",
    "from sklearn.metrics import confusion_matrix, ConfusionMatrixDisplay"
   ]
  },
  {
   "cell_type": "markdown",
   "id": "17394ba5-9b7c-4247-9d5d-21f16c7d3b77",
   "metadata": {},
   "source": [
    "## Human Session Generation Function\n",
    "\n",
    "### Explanation:\n",
    "\n",
    "Path behavior:\n",
    "(x, y) is updated with small, noisy steps.\n",
    "Uses np.random.normal(2, 1) to simulate natural hand jitter and uneven motion.\n",
    "\n",
    "Timing:\n",
    "Time between events is not fixed; it's drawn from a normal distribution around 50ms with some noise.\n",
    "\n",
    "Result:\n",
    "The path looks curvy, irregular, human-like.\n",
    "Velocity and direction change gradually and unpredictably."
   ]
  },
  {
   "cell_type": "code",
   "execution_count": 2,
   "id": "00d89d7e-b98f-4e4f-a9c4-d31c8b2f9f0b",
   "metadata": {},
   "outputs": [],
   "source": [
    "# ==== 1. SESSION GENERATION ====\n",
    "\n",
    "def generate_human_session():\n",
    "    num_points = np.random.randint(20, 100)\n",
    "    x, y, t = 0, 0, 0\n",
    "    session = []\n",
    "    for _ in range(num_points):\n",
    "        x += np.random.normal(2, 1)\n",
    "        y += np.random.normal(2, 1)\n",
    "        t += np.abs(np.random.normal(50, 20))\n",
    "        session.append((x, y, t))\n",
    "    metadata = np.random.choice(['morning', 'afternoon', 'evening'])\n",
    "    return session, metadata\n"
   ]
  },
  {
   "cell_type": "markdown",
   "id": "171fffd7-1356-4662-9db8-0785bdad5903",
   "metadata": {},
   "source": [
    "## Bot Session Generation Function\n",
    "\n",
    "### Explanation:\n",
    "\n",
    "Path behavior:\n",
    "Draws a straight line from a start to end coordinate.\n",
    "Movement is perfectly linear — (x, y) increases in equal steps.\n",
    "\n",
    "Timing:\n",
    "Every point is exactly 50ms apart — no variation.\n",
    "\n",
    "Result:\n",
    "The path is too clean, too smooth, and too regular — a signature of bots or automation scripts."
   ]
  },
  {
   "cell_type": "code",
   "execution_count": 3,
   "id": "fcdf3afd-5efe-40bc-9e55-fc16d62a68fb",
   "metadata": {},
   "outputs": [],
   "source": [
    "def generate_bot_session():\n",
    "    num_points = np.random.randint(20, 100)\n",
    "    start_x, start_y = 0, 0\n",
    "    end_x, end_y = np.random.randint(100, 500), np.random.randint(100, 500)\n",
    "    t = 0\n",
    "    session = []\n",
    "    for i in range(num_points):\n",
    "        x = start_x + (end_x - start_x) * (i / num_points)\n",
    "        y = start_y + (end_y - start_y) * (i / num_points)\n",
    "        t += 50  # constant interval\n",
    "        session.append((x, y, t))\n",
    "    metadata = np.random.choice(['morning', 'afternoon', 'evening'])\n",
    "    return session, metadata"
   ]
  },
  {
   "cell_type": "markdown",
   "id": "6f7dc0dd-9429-47ad-aa27-45700c81b75d",
   "metadata": {},
   "source": [
    "## Generating 50 human and 50 bot sessions, marked as 1 and 0 respectively."
   ]
  },
  {
   "cell_type": "code",
   "execution_count": 4,
   "id": "68c1b368-3925-4c3b-9ab1-cef33fb69c38",
   "metadata": {},
   "outputs": [],
   "source": [
    "def generate_sessions(n_human=50, n_bot=50):\n",
    "    data = []\n",
    "    for _ in range(n_human):\n",
    "        session, meta = generate_human_session()\n",
    "        data.append((session, meta, 1))  # 1 = human\n",
    "    for _ in range(n_bot):\n",
    "        session, meta = generate_bot_session()\n",
    "        data.append((session, meta, 0))  # 0 = bot\n",
    "    return data"
   ]
  },
  {
   "cell_type": "markdown",
   "id": "2fb404ae-99f4-40e5-97b1-c0c1be87de50",
   "metadata": {},
   "source": [
    "## Feature Engineering\n",
    "\n",
    "For each session, we extract:\n",
    "1. `velocity_mean`: Average velocity across pointer events.\n",
    "2. `velocity_std`: Standard deviation of velocity — captures motion jitter.\n",
    "3. `inter_event_time_std`: Variability in time between pointer movements.\n",
    "4. `direction_entropy`: How random the movement directions are (higher for humans).\n",
    "5. `total_path_length`: Total distance covered by the pointer."
   ]
  },
  {
   "cell_type": "code",
   "execution_count": 5,
   "id": "7bcdec85-14d8-46fe-858c-1d74cc073f5d",
   "metadata": {},
   "outputs": [],
   "source": [
    "# ==== 2. FEATURE EXTRACTION ====\n",
    "\n",
    "def extract_features(session_data):\n",
    "    features = []\n",
    "    labels = []\n",
    "    for session, meta, label in session_data:\n",
    "        xs, ys, ts = zip(*session)\n",
    "        xs, ys, ts = np.array(xs), np.array(ys), np.array(ts)\n",
    "\n",
    "        dx = np.diff(xs)\n",
    "        dy = np.diff(ys)\n",
    "        dt = np.diff(ts) + 1e-3\n",
    "\n",
    "        velocities = np.sqrt(dx**2 + dy**2) / dt\n",
    "        directions = np.arctan2(dy, dx)\n",
    "\n",
    "        # Bin directions and compute entropy\n",
    "        hist, _ = np.histogram(directions, bins=10)\n",
    "        hist_sum = np.sum(hist)\n",
    "        if hist_sum == 0:\n",
    "            dir_entropy = 0.0\n",
    "        else:\n",
    "            hist = hist / hist_sum\n",
    "            dir_entropy = entropy(hist + 1e-6)\n",
    "\n",
    "        features.append([\n",
    "            np.mean(velocities),\n",
    "            np.std(velocities),\n",
    "            np.std(dt),\n",
    "            dir_entropy,\n",
    "            np.sum(np.sqrt(dx**2 + dy**2))\n",
    "        ])\n",
    "        labels.append(label)\n",
    "\n",
    "    return np.array(features), np.array(labels)\n"
   ]
  },
  {
   "cell_type": "markdown",
   "id": "930ffd58-5211-4354-ad87-2f51aa4deee3",
   "metadata": {},
   "source": [
    "## Training & Evaluation using Random Forest Model"
   ]
  },
  {
   "cell_type": "code",
   "execution_count": 6,
   "id": "43548d9f-7067-4787-983e-491f0bb4a3a5",
   "metadata": {},
   "outputs": [],
   "source": [
    "# ==== 3. TRAINING & EVALUATION ====\n",
    "\n",
    "def train_model(X, y):\n",
    "    X_train, X_test, y_train, y_test = train_test_split(X, y, test_size=0.2, random_state=42)\n",
    "    clf = RandomForestClassifier(n_estimators=100, random_state=42)\n",
    "    clf.fit(X_train, y_train)\n",
    "\n",
    "    y_pred = clf.predict(X_test)\n",
    "    y_proba = clf.predict_proba(X_test)[:, 1]\n",
    "\n",
    "    report = classification_report(y_test, y_pred, output_dict=True)\n",
    "    auc = roc_auc_score(y_test, y_proba)\n",
    "\n",
    "    #print(json.dumps(report, indent=2))\n",
    "    #print(\"ROC AUC:\", auc)\n",
    "\n",
    "    print(\"\\nClassification Report:\")\n",
    "    headers = [\"Class\", \"Precision\", \"Recall\", \"F1-Score\", \"Support\"]\n",
    "    table = []\n",
    "    for label in [\"0\", \"1\"]:\n",
    "        row = report[label]\n",
    "        table.append([label, f\"{row['precision']:.2f}\", f\"{row['recall']:.2f}\", f\"{row['f1-score']:.2f}\", int(row['support'])])\n",
    "    print(tabulate(table, headers=headers, tablefmt=\"github\"))\n",
    "\n",
    "    if not os.path.exists(\"results\"):\n",
    "        os.makedirs(\"results\")\n",
    "\n",
    "    with open(\"results/metrics.json\", \"w\") as f:\n",
    "        json.dump({\"roc_auc\": auc, \"classification_report\": report}, f, indent=2)\n",
    "\n",
    "    # Confusion matrix\n",
    "    print(\"\\n\\nConfusion Matrix of Test Set: \")\n",
    "    cm = confusion_matrix(y_test, y_pred)\n",
    "    fig, ax = plt.subplots(figsize=(5, 4))  # Explicitly create a figure\n",
    "    disp = ConfusionMatrixDisplay(confusion_matrix=cm, display_labels=[\"Bot\", \"Human\"])\n",
    "    disp.plot(cmap=\"Blues\", values_format=\"d\", ax=ax)\n",
    "    ax.set_title(\"Confusion Matrix\")\n",
    "    plt.savefig(\"results/confusion_matrix.png\")\n",
    "    plt.show()\n",
    "    plt.close()\n",
    "    \n",
    "    # Plot ROC AUC\n",
    "    from sklearn.metrics import RocCurveDisplay\n",
    "    RocCurveDisplay.from_estimator(clf, X_test, y_test)\n",
    "    plt.title(\"ROC Curve\")\n",
    "    plt.savefig(\"results/roc_curve.png\")\n",
    "    "
   ]
  },
  {
   "cell_type": "code",
   "execution_count": 7,
   "id": "6b8be498-c069-4037-b54e-f18a1ca32298",
   "metadata": {},
   "outputs": [
    {
     "name": "stdout",
     "output_type": "stream",
     "text": [
      "🧍 Human Sessions (2 examples):\n",
      "\n",
      "Human #1:\n",
      "  Metadata: afternoon\n",
      "  First 5 Pointer Events: [(2.098985285629161, 2.0605686635350233, 32.2024831854649), (3.812852163251265, 5.048790993815471, 88.85637193982805)] \n",
      "\n",
      "Human #2:\n",
      "  Metadata: afternoon\n",
      "  First 5 Pointer Events: [(0.8146405028465693, 2.379849994434747, 59.20137893494071), (3.4001301983834944, 2.3692396385333194, 109.85427598192568)] \n",
      "\n",
      "🤖 Bot Sessions (2 examples):\n",
      "\n",
      "Bot #1:\n",
      "  Metadata: afternoon\n",
      "  First 5 Pointer Events: [(0.0, 0.0, 50), (5.789473684210526, 5.5438596491228065, 100)] \n",
      "\n",
      "Bot #2:\n",
      "  Metadata: morning\n",
      "  First 5 Pointer Events: [(0.0, 0.0, 50), (2.125, 3.703125, 100)] \n",
      "\n",
      "\n",
      "Classification Report:\n",
      "|   Class |   Precision |   Recall |   F1-Score |   Support |\n",
      "|---------|-------------|----------|------------|-----------|\n",
      "|       0 |           1 |        1 |          1 |         8 |\n",
      "|       1 |           1 |        1 |          1 |        12 |\n",
      "\n",
      "\n",
      "Confusion Matrix of Test Set: \n"
     ]
    },
    {
     "data": {
      "image/png": "[encoded data removed]",
      "text/plain": [
       "<Figure size 500x400 with 2 Axes>"
      ]
     },
     "metadata": {},
     "output_type": "display_data"
    },
    {
     "data": {
      "image/png": "[encoded data removed]",
      "text/plain": [
       "<Figure size 640x480 with 1 Axes>"
      ]
     },
     "metadata": {},
     "output_type": "display_data"
    }
   ],
   "source": [
    "# ==== 4. MAIN EXECUTION ====\n",
    "\n",
    "def main():\n",
    "    sessions = generate_sessions()\n",
    "    # Separate human and bot sessions\n",
    "    human_sessions = [s for s in sessions if s[2] == 1]\n",
    "    bot_sessions = [s for s in sessions if s[2] == 0]\n",
    "    \n",
    "    # Print 5 from each\n",
    "    print(\"🧍 Human Sessions (2 examples):\\n\")\n",
    "    for i, (session, meta, label) in enumerate(human_sessions[:2]):\n",
    "        print(f\"Human #{i+1}:\")\n",
    "        print(\"  Metadata:\", meta)\n",
    "        print(\"  First 5 Pointer Events:\", session[:2], \"\\n\")\n",
    "    \n",
    "    print(\"🤖 Bot Sessions (2 examples):\\n\")\n",
    "    for i, (session, meta, label) in enumerate(bot_sessions[:2]):\n",
    "        print(f\"Bot #{i+1}:\")\n",
    "        print(\"  Metadata:\", meta)\n",
    "        print(\"  First 5 Pointer Events:\", session[:2], \"\\n\")\n",
    "        \n",
    "    X, y = extract_features(sessions)\n",
    "    train_model(X, y)\n",
    "\n",
    "if __name__ == \"__main__\":\n",
    "    main()"
   ]
  },
  {
   "cell_type": "code",
   "execution_count": null,
   "id": "9bba88c9-8061-4f76-a923-1e91a7db3d25",
   "metadata": {},
   "outputs": [],
   "source": []
  }
 ],
 "metadata": {
  "kernelspec": {
   "display_name": "Python 3 (ipykernel)",
   "language": "python",
   "name": "python3"
  },
  "language_info": {
   "codemirror_mode": {
    "name": "ipython",
    "version": 3
   },
   "file_extension": ".py",
   "mimetype": "text/x-python",
   "name": "python",
   "nbconvert_exporter": "python",
   "pygments_lexer": "ipython3",
   "version": "3.11.11"
  }
 },
 "nbformat": 4,
 "nbformat_minor": 5
}
